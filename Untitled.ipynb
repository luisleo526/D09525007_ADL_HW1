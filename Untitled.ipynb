{
 "cells": [
  {
   "cell_type": "code",
   "execution_count": 46,
   "id": "e8dde9b4",
   "metadata": {},
   "outputs": [],
   "source": [
    "import json\n",
    "import pickle\n",
    "from argparse import ArgumentParser, Namespace\n",
    "from pathlib import Path\n",
    "from typing import Dict\n",
    "\n",
    "import torch\n",
    "from tqdm import trange\n",
    "\n",
    "from dataset import SeqClsDataset\n",
    "from utils import Vocab\n",
    "\n",
    "from torch.utils.data import DataLoader, SubsetRandomSampler\n",
    "from model import SeqClassifier\n",
    "import torch.optim as optim\n",
    "import torch.backends.cudnn as cudnn\n",
    "\n",
    "TRAIN = \"train\"\n",
    "DEV = \"eval\"\n",
    "SPLITS = [TRAIN, DEV]\n",
    "\n",
    "cache_dir = Path(\"./cache/intent/\")\n",
    "data_dir = Path(\"./data/intent/\")\n",
    "\n",
    "device = torch.device('cuda')"
   ]
  },
  {
   "cell_type": "code",
   "execution_count": 47,
   "id": "205c3ed6",
   "metadata": {},
   "outputs": [],
   "source": [
    "with open(cache_dir / \"vocab.pkl\", \"rb\") as f:\n",
    "    vocab: Vocab = pickle.load(f)"
   ]
  },
  {
   "cell_type": "code",
   "execution_count": 48,
   "id": "7ccfc6db",
   "metadata": {},
   "outputs": [],
   "source": [
    "intent_idx_path = cache_dir / \"intent2idx.json\"\n",
    "with open(intent_idx_path) as f:\n",
    "    intent2idx: Dict[str, int] = json.loads(f.read())"
   ]
  },
  {
   "cell_type": "code",
   "execution_count": 49,
   "id": "37142d35",
   "metadata": {},
   "outputs": [],
   "source": [
    "data_paths = {split: data_dir / f\"{split}.json\" for split in SPLITS}\n",
    "data = {split: json.loads(path.read_text()) for split, path in data_paths.items()}\n",
    "data=[y for x in data.keys() for y in data[x] ]\n",
    "# datasets: Dict[str, SeqClsDataset] = {\n",
    "#     split: SeqClsDataset(split_data, vocab, intent2idx, 64)\n",
    "#     for split, split_data in data.items()\n",
    "# }\n",
    "datasets = SeqClsDataset(data, vocab, intent2idx, 24)\n",
    "embeddings = torch.load(cache_dir / \"embeddings.pt\")"
   ]
  },
  {
   "cell_type": "code",
   "execution_count": 50,
   "id": "38bd803a",
   "metadata": {},
   "outputs": [],
   "source": [
    "for train_ind, test_ind in splits.split(datasets):\n",
    "    train=DataLoader(datasets,batch_size=128,shuffle=False,\n",
    "                     collate_fn=lambda x: tuple(x_.to(device) for x_ in datasets.collate_fn(x)),\n",
    "                     sampler=SubsetRandomSampler(train_ind))"
   ]
  },
  {
   "cell_type": "code",
   "execution_count": 57,
   "id": "02c3caef",
   "metadata": {},
   "outputs": [
    {
     "data": {
      "text/plain": [
       "10"
      ]
     },
     "execution_count": 57,
     "metadata": {},
     "output_type": "execute_result"
    }
   ],
   "source": [
    "splits.get_n_splits()"
   ]
  },
  {
   "cell_type": "code",
   "execution_count": 64,
   "id": "cda081c7",
   "metadata": {},
   "outputs": [
    {
     "ename": "TypeError",
     "evalue": "'int' object is not iterable",
     "output_type": "error",
     "traceback": [
      "\u001b[1;31m---------------------------------------------------------------------------\u001b[0m",
      "\u001b[1;31mTypeError\u001b[0m                                 Traceback (most recent call last)",
      "\u001b[1;32m~\\AppData\\Local\\Temp/ipykernel_21704/3801256875.py\u001b[0m in \u001b[0;36m<module>\u001b[1;34m\u001b[0m\n\u001b[1;32m----> 1\u001b[1;33m \u001b[1;33m[\u001b[0m\u001b[0mx\u001b[0m \u001b[1;32mfor\u001b[0m \u001b[0mx\u001b[0m \u001b[1;32min\u001b[0m \u001b[0ma\u001b[0m\u001b[1;33m]\u001b[0m\u001b[1;33m[\u001b[0m\u001b[1;33m-\u001b[0m\u001b[1;36m1\u001b[0m\u001b[1;33m]\u001b[0m\u001b[1;33m\u001b[0m\u001b[1;33m\u001b[0m\u001b[0m\n\u001b[0m",
      "\u001b[1;31mTypeError\u001b[0m: 'int' object is not iterable"
     ]
    }
   ],
   "source": [
    "[x for x in a][-1]"
   ]
  },
  {
   "cell_type": "code",
   "execution_count": 62,
   "id": "31cd2e92",
   "metadata": {},
   "outputs": [],
   "source": [
    "a=1"
   ]
  },
  {
   "cell_type": "code",
   "execution_count": 10,
   "id": "75dffebc",
   "metadata": {},
   "outputs": [],
   "source": [
    "model=SeqClassifier(embeddings=embeddings,hidden_size=128,num_layers=2,dropout=0.1,bidirectional=True,num_class=len(intent2idx))"
   ]
  },
  {
   "cell_type": "code",
   "execution_count": 16,
   "id": "680eed02",
   "metadata": {},
   "outputs": [
    {
     "ename": "AttributeError",
     "evalue": "'StepLR' object has no attribute 'to'",
     "output_type": "error",
     "traceback": [
      "\u001b[1;31m---------------------------------------------------------------------------\u001b[0m",
      "\u001b[1;31mAttributeError\u001b[0m                            Traceback (most recent call last)",
      "\u001b[1;32m~\\AppData\\Local\\Temp/ipykernel_25672/2318042844.py\u001b[0m in \u001b[0;36m<module>\u001b[1;34m\u001b[0m\n\u001b[0;32m      6\u001b[0m \u001b[0mmodel\u001b[0m\u001b[1;33m.\u001b[0m\u001b[0mto\u001b[0m\u001b[1;33m(\u001b[0m\u001b[0mdevice\u001b[0m\u001b[1;33m)\u001b[0m\u001b[1;33m\u001b[0m\u001b[1;33m\u001b[0m\u001b[0m\n\u001b[0;32m      7\u001b[0m \u001b[0mcriterion\u001b[0m\u001b[1;33m.\u001b[0m\u001b[0mto\u001b[0m\u001b[1;33m(\u001b[0m\u001b[0mdevice\u001b[0m\u001b[1;33m)\u001b[0m\u001b[1;33m\u001b[0m\u001b[1;33m\u001b[0m\u001b[0m\n\u001b[1;32m----> 8\u001b[1;33m \u001b[0mscheduler\u001b[0m\u001b[1;33m.\u001b[0m\u001b[0mto\u001b[0m\u001b[1;33m(\u001b[0m\u001b[0mdevice\u001b[0m\u001b[1;33m)\u001b[0m\u001b[1;33m\u001b[0m\u001b[1;33m\u001b[0m\u001b[0m\n\u001b[0m\u001b[0;32m      9\u001b[0m \u001b[1;31m# for epoch in range(100):\u001b[0m\u001b[1;33m\u001b[0m\u001b[1;33m\u001b[0m\u001b[0m\n\u001b[0;32m     10\u001b[0m \u001b[1;33m\u001b[0m\u001b[0m\n",
      "\u001b[1;31mAttributeError\u001b[0m: 'StepLR' object has no attribute 'to'"
     ]
    }
   ],
   "source": [
    "lr=5\n",
    "criterion = torch.nn.CrossEntropyLoss()\n",
    "optimizer = torch.optim.SGD(model.parameters(), lr=lr)\n",
    "scheduler = torch.optim.lr_scheduler.StepLR(optimizer, 1.0, gamma=0.1)\n",
    "# torch.backends.cudnn.enabled = True\n",
    "model.to(device)\n",
    "criterion.to(device)\n",
    "scheduler.to(device)\n",
    "# for epoch in range(100):\n",
    "    \n",
    "#     loss=0\n",
    "#     n=0\n",
    "#     acc=0\n",
    "    \n",
    "#     model.train()\n",
    "#     for labels, texts in train:\n",
    "        \n",
    "#         out = model(texts)\n",
    "        \n",
    "#         p_labels = torch.argmax(out, dim=1)\n",
    "#         acc=acc+torch.sum(p_labels == labels)\n",
    "#         n = n + len(labels)\n",
    "        \n",
    "#         loss = criterion(out, labels)\n",
    "#         optimizer.zero_grad()\n",
    "#         loss.backward()\n",
    "#         optimizer.step()\n",
    "        \n",
    "#     print(epoch,f\"{acc.item()/n*100:.2f}%\")"
   ]
  },
  {
   "cell_type": "code",
   "execution_count": 11,
   "id": "d6ba8ab4",
   "metadata": {},
   "outputs": [
    {
     "data": {
      "text/plain": [
       "0"
      ]
     },
     "execution_count": 11,
     "metadata": {},
     "output_type": "execute_result"
    }
   ],
   "source": [
    "4 % 2"
   ]
  },
  {
   "cell_type": "code",
   "execution_count": 18,
   "id": "1edeff41",
   "metadata": {},
   "outputs": [
    {
     "name": "stdout",
     "output_type": "stream",
     "text": [
      "       118\n"
     ]
    }
   ],
   "source": [
    "print(f\"{len(train):10d}\")"
   ]
  },
  {
   "cell_type": "code",
   "execution_count": null,
   "id": "4afd7112",
   "metadata": {},
   "outputs": [],
   "source": []
  }
 ],
 "metadata": {
  "kernelspec": {
   "display_name": "Python 3 (ipykernel)",
   "language": "python",
   "name": "python3"
  },
  "language_info": {
   "codemirror_mode": {
    "name": "ipython",
    "version": 3
   },
   "file_extension": ".py",
   "mimetype": "text/x-python",
   "name": "python",
   "nbconvert_exporter": "python",
   "pygments_lexer": "ipython3",
   "version": "3.9.7"
  }
 },
 "nbformat": 4,
 "nbformat_minor": 5
}
