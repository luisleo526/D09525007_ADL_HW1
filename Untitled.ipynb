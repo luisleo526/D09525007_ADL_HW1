{
 "cells": [
  {
   "cell_type": "code",
   "execution_count": 33,
   "id": "e8dde9b4",
   "metadata": {},
   "outputs": [],
   "source": [
    "import json\n",
    "import pickle\n",
    "from argparse import ArgumentParser, Namespace\n",
    "from pathlib import Path\n",
    "from typing import Dict\n",
    "\n",
    "import torch\n",
    "from tqdm import trange\n",
    "\n",
    "from dataset import SeqClsDataset\n",
    "from utils import Vocab\n",
    "\n",
    "from torch.utils.data import DataLoader, SubsetRandomSampler\n",
    "from model import SeqClassifier\n",
    "import torch.optim as optim\n",
    "import torch.backends.cudnn as cudnn\n",
    "\n",
    "import csv\n",
    "\n",
    "TRAIN = \"train\"\n",
    "DEV = \"eval\"\n",
    "SPLITS = [TRAIN, DEV]\n",
    "\n",
    "cache_dir = Path(\"./cache/intent/\")\n",
    "data_dir = Path(\"./data/intent/\")\n",
    "test_file = Path(\"./data/intent/test.json\")\n",
    "\n",
    "ckpt_path = Path()\n",
    "\n",
    "device = torch.device('cuda')"
   ]
  },
  {
   "cell_type": "code",
   "execution_count": 8,
   "id": "205c3ed6",
   "metadata": {},
   "outputs": [],
   "source": [
    "with open(cache_dir / \"vocab.pkl\", \"rb\") as f:\n",
    "    vocab: Vocab = pickle.load(f)"
   ]
  },
  {
   "cell_type": "code",
   "execution_count": 10,
   "id": "7ccfc6db",
   "metadata": {},
   "outputs": [],
   "source": [
    "intent_idx_path = cache_dir / \"intent2idx.json\"\n",
    "intent2idx: Dict[str, int] = json.loads(intent_idx_path.read_text())\n",
    "data = json.loads(test_file.read_text())\n",
    "dataset = SeqClsDataset(data, vocab, intent2idx, 32)"
   ]
  },
  {
   "cell_type": "code",
   "execution_count": 12,
   "id": "4afd7112",
   "metadata": {},
   "outputs": [],
   "source": [
    "embeddings = torch.load(cache_dir / \"embeddings.pt\")\n",
    "\n",
    "model = SeqClassifier(\n",
    "    embeddings,\n",
    "    1024,\n",
    "    3,\n",
    "    0.01,\n",
    "    True,\n",
    "    dataset.num_classes,\n",
    ")"
   ]
  },
  {
   "cell_type": "code",
   "execution_count": 14,
   "id": "193ad28c",
   "metadata": {},
   "outputs": [
    {
     "data": {
      "text/plain": [
       "<All keys matched successfully>"
      ]
     },
     "execution_count": 14,
     "metadata": {},
     "output_type": "execute_result"
    }
   ],
   "source": [
    "ckpt_path=Path(\"./ckpt/intent/intent_best_model.pth\")\n",
    "ckpt = torch.load(ckpt_path)\n",
    "model.load_state_dict(ckpt)"
   ]
  },
  {
   "cell_type": "code",
   "execution_count": 15,
   "id": "b69bc435",
   "metadata": {},
   "outputs": [
    {
     "data": {
      "text/plain": [
       "SeqClassifier(\n",
       "  (embed): Embedding(6491, 300)\n",
       "  (rnn): GRU(300, 1024, num_layers=3, dropout=0.01, bidirectional=True)\n",
       "  (fc): Linear(in_features=1024, out_features=150, bias=True)\n",
       ")"
      ]
     },
     "execution_count": 15,
     "metadata": {},
     "output_type": "execute_result"
    }
   ],
   "source": [
    "model.to(device)\n",
    "model.eval()"
   ]
  },
  {
   "cell_type": "code",
   "execution_count": 19,
   "id": "68983a57",
   "metadata": {},
   "outputs": [],
   "source": [
    "x=[]\n",
    "for data in dataset.data:\n",
    "    text = data['text'].split()\n",
    "    x.append(text)\n",
    "    \n",
    "x = dataset.vocab.encode_batch(batch_tokens=x,to_len=dataset.max_len)\n",
    "x = torch.tensor(x,dtype=torch.int64).to(device)"
   ]
  },
  {
   "cell_type": "code",
   "execution_count": 30,
   "id": "f04fc48c",
   "metadata": {},
   "outputs": [],
   "source": [
    "f = torch.nn.LogSoftmax(dim=1)\n",
    "p_label =f(model(x))\n",
    "p_label=torch.argmax(p_label, dim=1)"
   ]
  },
  {
   "cell_type": "code",
   "execution_count": 49,
   "id": "ecc4f2df",
   "metadata": {},
   "outputs": [],
   "source": [
    "p_label.to(device = torch.device('cpu'))\n",
    "with open('test.csv','w',newline='') as f:\n",
    "    writer = csv.writer(f)\n",
    "    writer.writerow(['id','intent'])\n",
    "    n=0\n",
    "    for label in p_label:\n",
    "        writer.writerow([f\"test-{n}\",f\"{dataset.idx2label(label.item())}\"])\n",
    "        n=n+1"
   ]
  },
  {
   "cell_type": "code",
   "execution_count": null,
   "id": "2762eb81",
   "metadata": {},
   "outputs": [],
   "source": []
  }
 ],
 "metadata": {
  "kernelspec": {
   "display_name": "Python 3 (ipykernel)",
   "language": "python",
   "name": "python3"
  },
  "language_info": {
   "codemirror_mode": {
    "name": "ipython",
    "version": 3
   },
   "file_extension": ".py",
   "mimetype": "text/x-python",
   "name": "python",
   "nbconvert_exporter": "python",
   "pygments_lexer": "ipython3",
   "version": "3.9.7"
  }
 },
 "nbformat": 4,
 "nbformat_minor": 5
}
