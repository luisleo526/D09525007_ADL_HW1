{
 "cells": [
  {
   "cell_type": "code",
   "execution_count": 1,
   "id": "2b35c663",
   "metadata": {},
   "outputs": [
    {
     "data": {
      "text/plain": [
       "SeqClassifier(\n",
       "  (embed): Embedding(4117, 300)\n",
       "  (rnn): GRU(300, 128, num_layers=2, dropout=0.1, bidirectional=True)\n",
       "  (fc): Linear(in_features=256, out_features=9, bias=True)\n",
       ")"
      ]
     },
     "execution_count": 1,
     "metadata": {},
     "output_type": "execute_result"
    }
   ],
   "source": [
    "import json\n",
    "import pickle\n",
    "from argparse import ArgumentParser, Namespace\n",
    "from pathlib import Path\n",
    "from typing import Dict\n",
    "\n",
    "from dataset import SeqClsDataset\n",
    "from utils import Vocab, Acc_counter\n",
    "from torch.utils.data import Dataset, DataLoader, SubsetRandomSampler\n",
    "from model import SeqClassifier\n",
    "\n",
    "import torch\n",
    "from tqdm import trange\n",
    "import torch.optim as optim\n",
    "\n",
    "import torch.nn.functional as F\n",
    "\n",
    "cache_dir = Path('./cache/slot/')\n",
    "data_dir = Path('./data/slot')\n",
    "\n",
    "device = torch.device('cuda')\n",
    "\n",
    "with open(cache_dir / \"vocab.pkl\", \"rb\") as f:\n",
    "    vocab: Vocab = pickle.load(f)\n",
    "\n",
    "slot_idx_path = cache_dir / \"tag2idx.json\"\n",
    "slot2idx: Dict[str, int] = json.loads(slot_idx_path.read_text())\n",
    "\n",
    "data_paths = {split: data_dir / f\"{split}.json\" for split in ['train','eval']}\n",
    "data = {split: json.loads(path.read_text()) for split, path in data_paths.items()}\n",
    "data=[y for x in data.keys() for y in data[x] ]\n",
    "\n",
    "embeddings = torch.load(cache_dir / \"embeddings.pt\")\n",
    "\n",
    "datasets = SeqClsDataset(data, vocab, slot2idx, 36)\n",
    "\n",
    "dataloader=DataLoader(datasets,batch_size=256,shuffle=False,collate_fn=datasets.collate_fn)\n",
    "\n",
    "model = SeqClassifier(embeddings=embeddings,hidden_size=128,num_layers=2,dropout=0.1,bidirectional=True,num_class=len(slot2idx))\n",
    "optimizer = optim.Adam(filter(lambda p: p.requires_grad, model.parameters()))\n",
    "criterion = torch.nn.CrossEntropyLoss()\n",
    "model.to(device)\n",
    "criterion.to(device)\n",
    "model.train()"
   ]
  },
  {
   "cell_type": "code",
   "execution_count": null,
   "id": "d22c3882",
   "metadata": {},
   "outputs": [],
   "source": [
    "d=iter(dataloader)"
   ]
  },
  {
   "cell_type": "code",
   "execution_count": null,
   "id": "62a1b0f1",
   "metadata": {},
   "outputs": [],
   "source": [
    "y, x, length = next(d)\n",
    "_y = model(x,length,device)"
   ]
  },
  {
   "cell_type": "code",
   "execution_count": 2,
   "id": "b3cebc4e",
   "metadata": {},
   "outputs": [
    {
     "name": "stdout",
     "output_type": "stream",
     "text": [
      "0 40.2717%/80.7844%\n",
      "1 55.8224%/90.4740%\n",
      "2 69.2261%/94.2495%\n",
      "3 75.2305%/95.7008%\n",
      "4 79.0272%/96.5082%\n",
      "5 81.7200%/97.0429%\n",
      "6 83.7215%/97.4389%\n",
      "7 85.8079%/97.7989%\n",
      "8 86.9602%/98.0250%\n",
      "9 88.4279%/98.2479%\n"
     ]
    }
   ],
   "source": [
    "f=torch.nn.LogSoftmax(dim=1)\n",
    "for epoch in range(10):\n",
    "    \n",
    "    token_acc = Acc_counter()\n",
    "    sent_acc = Acc_counter()\n",
    "    for y, x, length in dataloader:\n",
    "        \n",
    "        _y = model(x,length,device)\n",
    "        loss = model.loss_and_acc(_y,y,criterion,device,sent_acc,token_acc)\n",
    "        optimizer.zero_grad()\n",
    "        loss.backward()\n",
    "        optimizer.step()\n",
    "    \n",
    "    print(epoch,f\"{sent_acc.out()}/{token_acc.out()}\")"
   ]
  }
 ],
 "metadata": {
  "kernelspec": {
   "display_name": "Python 3 (ipykernel)",
   "language": "python",
   "name": "python3"
  },
  "language_info": {
   "codemirror_mode": {
    "name": "ipython",
    "version": 3
   },
   "file_extension": ".py",
   "mimetype": "text/x-python",
   "name": "python",
   "nbconvert_exporter": "python",
   "pygments_lexer": "ipython3",
   "version": "3.9.7"
  }
 },
 "nbformat": 4,
 "nbformat_minor": 5
}
