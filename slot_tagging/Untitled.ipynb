{
 "cells": [
  {
   "cell_type": "code",
   "execution_count": 5,
   "id": "2b35c663",
   "metadata": {},
   "outputs": [
    {
     "data": {
      "text/plain": [
       "SeqClassifier(\n",
       "  (embed): Embedding(4117, 300)\n",
       "  (rnn): GRU(300, 128, num_layers=2, dropout=0.1, bidirectional=True)\n",
       "  (fc): Linear(in_features=256, out_features=9, bias=True)\n",
       ")"
      ]
     },
     "execution_count": 5,
     "metadata": {},
     "output_type": "execute_result"
    }
   ],
   "source": [
    "import json\n",
    "import pickle\n",
    "from argparse import ArgumentParser, Namespace\n",
    "from pathlib import Path\n",
    "from typing import Dict\n",
    "\n",
    "from dataset import SeqClsDataset\n",
    "from utils import Vocab, Acc_counter\n",
    "from torch.utils.data import Dataset, DataLoader, SubsetRandomSampler\n",
    "from model import SeqClassifier\n",
    "\n",
    "import torch\n",
    "from tqdm import trange\n",
    "import torch.optim as optim\n",
    "\n",
    "import torch.nn.functional as F\n",
    "\n",
    "cache_dir = Path('./cache/slot/')\n",
    "data_dir = Path('./data/slot')\n",
    "\n",
    "device = torch.device('cuda')\n",
    "\n",
    "with open(cache_dir / \"vocab.pkl\", \"rb\") as f:\n",
    "    vocab: Vocab = pickle.load(f)\n",
    "\n",
    "slot_idx_path = cache_dir / \"tag2idx.json\"\n",
    "slot2idx: Dict[str, int] = json.loads(slot_idx_path.read_text())\n",
    "\n",
    "data_paths = {split: data_dir / f\"{split}.json\" for split in ['train','eval']}\n",
    "data = {split: json.loads(path.read_text()) for split, path in data_paths.items()}\n",
    "data=[y for x in data.keys() for y in data[x] ]\n",
    "\n",
    "embeddings = torch.load(cache_dir / \"embeddings.pt\")\n",
    "\n",
    "datasets = SeqClsDataset(data, vocab, slot2idx, 36)\n",
    "\n",
    "dataloader=DataLoader(datasets,batch_size=2,shuffle=False,collate_fn=datasets.collate_fn)\n",
    "\n",
    "model = SeqClassifier(embeddings=embeddings,hidden_size=128,num_layers=2,dropout=0.1,bidirectional=True,num_class=len(slot2idx))\n",
    "optimizer = optim.Adam(filter(lambda p: p.requires_grad, model.parameters()))\n",
    "criterion = torch.nn.CrossEntropyLoss()\n",
    "model.to(device)\n",
    "criterion.to(device)\n",
    "model.train()"
   ]
  },
  {
   "cell_type": "code",
   "execution_count": 6,
   "id": "d22c3882",
   "metadata": {},
   "outputs": [],
   "source": [
    "d=iter(dataloader)"
   ]
  },
  {
   "cell_type": "code",
   "execution_count": 7,
   "id": "62a1b0f1",
   "metadata": {},
   "outputs": [],
   "source": [
    "y, x, length = next(d)\n",
    "_y = model(x,length,device)"
   ]
  },
  {
   "cell_type": "code",
   "execution_count": 2,
   "id": "b3cebc4e",
   "metadata": {},
   "outputs": [
    {
     "name": "stdout",
     "output_type": "stream",
     "text": [
      "0 40.2717%/80.7844%\n",
      "1 55.8224%/90.4740%\n",
      "2 69.2261%/94.2495%\n",
      "3 75.2305%/95.7008%\n",
      "4 79.0272%/96.5082%\n",
      "5 81.7200%/97.0429%\n",
      "6 83.7215%/97.4389%\n",
      "7 85.8079%/97.7989%\n",
      "8 86.9602%/98.0250%\n",
      "9 88.4279%/98.2479%\n"
     ]
    }
   ],
   "source": [
    "f=torch.nn.LogSoftmax(dim=1)\n",
    "for epoch in range(10):\n",
    "    \n",
    "    token_acc = Acc_counter()\n",
    "    sent_acc = Acc_counter()\n",
    "    for y, x, length in dataloader:\n",
    "        \n",
    "        _y = model(x,length,device)\n",
    "        loss = model.loss_and_acc(_y,y,criterion,device,sent_acc,token_acc)\n",
    "        optimizer.zero_grad()\n",
    "        loss.backward()\n",
    "        optimizer.step()\n",
    "    \n",
    "    print(epoch,f\"{sent_acc.out()}/{token_acc.out()}\")"
   ]
  },
  {
   "cell_type": "code",
   "execution_count": 8,
   "id": "e1e2edb3",
   "metadata": {},
   "outputs": [
    {
     "data": {
      "text/plain": [
       "tensor([[[-0.1465, -0.1069,  0.0550, -0.0192, -0.0476, -0.0941,  0.0843,\n",
       "          -0.0545,  0.0165],\n",
       "         [-0.1451, -0.1586,  0.0337, -0.0318, -0.1341, -0.1519,  0.0809,\n",
       "          -0.0828,  0.0274],\n",
       "         [-0.1577, -0.1565, -0.0292, -0.0361, -0.1400, -0.1843,  0.1272,\n",
       "          -0.0964,  0.0861],\n",
       "         [-0.1123, -0.1620, -0.0465, -0.0850, -0.1407, -0.1959,  0.1594,\n",
       "          -0.1300,  0.1075],\n",
       "         [-0.0883, -0.0770, -0.1132, -0.1147, -0.0963, -0.2524,  0.1614,\n",
       "          -0.1053,  0.1185],\n",
       "         [-0.0492,  0.0111, -0.1587, -0.0696, -0.0522, -0.2203,  0.1496,\n",
       "          -0.0446,  0.0796],\n",
       "         [-0.0566,  0.0087, -0.1537, -0.0531, -0.0110, -0.1897,  0.1380,\n",
       "          -0.0253,  0.0537],\n",
       "         [-0.0272,  0.0367,  0.0042,  0.0078,  0.0152,  0.0047,  0.0377,\n",
       "          -0.0107,  0.0432]],\n",
       "\n",
       "        [[-0.1138, -0.1678,  0.1226, -0.0712, -0.0876, -0.1456,  0.1298,\n",
       "          -0.1048, -0.0717],\n",
       "         [-0.1373, -0.1352,  0.0797, -0.1013, -0.1508, -0.1837,  0.1321,\n",
       "          -0.1090, -0.0526],\n",
       "         [-0.1299, -0.1832,  0.0369, -0.1380, -0.1752, -0.1897,  0.1532,\n",
       "          -0.1235,  0.0093],\n",
       "         [-0.1148, -0.2438,  0.0259, -0.1077, -0.1508, -0.1518,  0.1630,\n",
       "          -0.0915,  0.0925],\n",
       "         [-0.0790, -0.1553, -0.0603, -0.1044, -0.1071, -0.1937,  0.2003,\n",
       "          -0.0786,  0.1433],\n",
       "         [-0.0913, -0.1166, -0.0369, -0.1462, -0.1276, -0.2165,  0.1670,\n",
       "          -0.0704,  0.1256],\n",
       "         [-0.0819, -0.0682, -0.0451, -0.0842, -0.1214, -0.2346,  0.1659,\n",
       "          -0.0540,  0.1077],\n",
       "         [-0.0129, -0.0734, -0.0362, -0.0962, -0.1066, -0.2442,  0.1656,\n",
       "          -0.0377,  0.0610]]], device='cuda:0', grad_fn=<AddBackward0>)"
      ]
     },
     "execution_count": 8,
     "metadata": {},
     "output_type": "execute_result"
    }
   ],
   "source": [
    "_y"
   ]
  },
  {
   "cell_type": "code",
   "execution_count": 18,
   "id": "f6d323b2",
   "metadata": {},
   "outputs": [
    {
     "data": {
      "text/plain": [
       "tensor([0.0991, 0.1031, 0.1212, 0.1126, 0.1094, 0.1044, 0.1248, 0.1087, 0.1166],\n",
       "       device='cuda:0', grad_fn=<SelectBackward0>)"
      ]
     },
     "execution_count": 18,
     "metadata": {},
     "output_type": "execute_result"
    }
   ],
   "source": [
    "F.softmax(_y,dim=2)[0][0]"
   ]
  },
  {
   "cell_type": "code",
   "execution_count": null,
   "id": "5372eea5",
   "metadata": {},
   "outputs": [],
   "source": []
  }
 ],
 "metadata": {
  "kernelspec": {
   "display_name": "Python 3 (ipykernel)",
   "language": "python",
   "name": "python3"
  },
  "language_info": {
   "codemirror_mode": {
    "name": "ipython",
    "version": 3
   },
   "file_extension": ".py",
   "mimetype": "text/x-python",
   "name": "python",
   "nbconvert_exporter": "python",
   "pygments_lexer": "ipython3",
   "version": "3.9.7"
  }
 },
 "nbformat": 4,
 "nbformat_minor": 5
}
